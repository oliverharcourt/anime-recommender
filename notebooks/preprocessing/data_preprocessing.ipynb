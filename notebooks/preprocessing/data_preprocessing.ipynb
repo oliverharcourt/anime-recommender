{
 "cells": [
  {
   "cell_type": "code",
   "execution_count": 1,
   "metadata": {},
   "outputs": [],
   "source": [
    "import os\n",
    "import re\n",
    "import unicodedata\n",
    "import pandas as pd\n",
    "from dotenv import load_dotenv"
   ]
  },
  {
   "cell_type": "code",
   "execution_count": 2,
   "metadata": {},
   "outputs": [],
   "source": [
    "load_dotenv()\n",
    "data_dir = os.getenv(\"DATA_DIR\")\n",
    "data_path = os.path.join(data_dir, \"raw\", \"anime_data.csv\")"
   ]
  },
  {
   "cell_type": "code",
   "execution_count": 3,
   "metadata": {},
   "outputs": [],
   "source": [
    "raw_data = pd.read_csv(data_path)\n",
    "#duplicates = synopses[synopses.duplicated()]\n",
    "#duplicates.to_csv(os.path.join(data_dir, \"interim\", \"duplicates.csv\"), index=False)"
   ]
  },
  {
   "cell_type": "code",
   "execution_count": 8,
   "metadata": {},
   "outputs": [],
   "source": [
    "def clean_text(text):\n",
    "    text = unicodedata.normalize('NFKC', text)  # Unicode normalization\n",
    "    text = re.sub(r'<.*?>', '', text)  # Remove HTML tags if any\n",
    "    text = re.sub(r\"\\(.*source.*\\)\", \"\", text, flags=re.IGNORECASE)  # Remove source citations\n",
    "    text = re.sub(r\"\\[.*MAL.*\\]\", \"\", text)  # Remove MAL citations\n",
    "    text = re.sub(r\"\\s+\", \" \", text)  # Normalize whitespace\n",
    "    text = text.strip()  # Strip whitespace from the beginning and the end\n",
    "    return text\n",
    "\n",
    "synopses = raw_data[\"synopsis\"]\n",
    "synopses = synopses.dropna().drop_duplicates()\n",
    "synopses = synopses.apply(clean_text)"
   ]
  },
  {
   "cell_type": "code",
   "execution_count": 5,
   "metadata": {},
   "outputs": [],
   "source": [
    "synopses.to_csv(os.path.join(data_dir, \"interim\", \"synopses.csv\"), index=False)"
   ]
  },
  {
   "cell_type": "code",
   "execution_count": 9,
   "metadata": {},
   "outputs": [
    {
     "data": {
      "text/plain": [
       "\"DVD specials. Episode 1 - 朗読少年 (Lecture Shounen): Macaron's special training by Kuu-chan. Episode 2 - 朗読兄弟 (Lecture brothers): Macaron's special training by his brother Daigorou. Episode 3 - もう一つのエンディング~囚われの安藤なつ~ (Another ending ~ Natsu Andou's imprisonment):\""
      ]
     },
     "execution_count": 9,
     "metadata": {},
     "output_type": "execute_result"
    }
   ],
   "source": [
    "test = synopses[9224]\n",
    "test"
   ]
  },
  {
   "cell_type": "code",
   "execution_count": 7,
   "metadata": {},
   "outputs": [],
   "source": [
    "from transformers import BertTokenizer\n",
    "\n",
    "tokenizer = BertTokenizer.from_pretrained(\"google-bert/bert-base-uncased\")"
   ]
  },
  {
   "cell_type": "code",
   "execution_count": 8,
   "metadata": {},
   "outputs": [
    {
     "data": {
      "text/plain": [
       "['[CLS]',\n",
       " 'dvd',\n",
       " 'specials',\n",
       " '.',\n",
       " 'episode',\n",
       " '1',\n",
       " '-',\n",
       " '[UNK]',\n",
       " '[UNK]',\n",
       " '[UNK]',\n",
       " '年',\n",
       " '(',\n",
       " 'lecture',\n",
       " 'sho',\n",
       " '##une',\n",
       " '##n',\n",
       " ')',\n",
       " ':',\n",
       " 'mac',\n",
       " '##aro',\n",
       " '##n',\n",
       " \"'\",\n",
       " 's',\n",
       " 'special',\n",
       " 'training',\n",
       " 'by',\n",
       " 'ku',\n",
       " '##u',\n",
       " '-',\n",
       " 'chan',\n",
       " '.',\n",
       " 'episode',\n",
       " '2',\n",
       " '-',\n",
       " '[UNK]',\n",
       " '[UNK]',\n",
       " '[UNK]',\n",
       " '[UNK]',\n",
       " '(',\n",
       " 'lecture',\n",
       " 'brothers',\n",
       " ')',\n",
       " ':',\n",
       " 'mac',\n",
       " '##aro',\n",
       " '##n',\n",
       " \"'\",\n",
       " 's',\n",
       " 'special',\n",
       " 'training',\n",
       " 'by',\n",
       " 'his',\n",
       " 'brother',\n",
       " 'dai',\n",
       " '##gor',\n",
       " '##ou',\n",
       " '.',\n",
       " 'episode',\n",
       " '3',\n",
       " '-',\n",
       " 'も',\n",
       " '##う',\n",
       " '一',\n",
       " 'つ',\n",
       " '##の',\n",
       " '##エ',\n",
       " '##ン',\n",
       " '##テ',\n",
       " '##ィ',\n",
       " '##ン',\n",
       " '##ク',\n",
       " '~',\n",
       " '[UNK]',\n",
       " '[UNK]',\n",
       " '安',\n",
       " '藤',\n",
       " 'な',\n",
       " '##つ',\n",
       " '~',\n",
       " '(',\n",
       " 'another',\n",
       " 'ending',\n",
       " '~',\n",
       " 'nat',\n",
       " '##su',\n",
       " 'and',\n",
       " '##ou',\n",
       " \"'\",\n",
       " 's',\n",
       " 'imprisonment',\n",
       " ')',\n",
       " ':',\n",
       " '[SEP]']"
      ]
     },
     "execution_count": 8,
     "metadata": {},
     "output_type": "execute_result"
    }
   ],
   "source": [
    "encoding = tokenizer(test)\n",
    "encoding['input_ids']\n",
    "tokenizer.convert_ids_to_tokens(encoding['input_ids'])"
   ]
  }
 ],
 "metadata": {
  "kernelspec": {
   "display_name": ".venv",
   "language": "python",
   "name": "python3"
  },
  "language_info": {
   "codemirror_mode": {
    "name": "ipython",
    "version": 3
   },
   "file_extension": ".py",
   "mimetype": "text/x-python",
   "name": "python",
   "nbconvert_exporter": "python",
   "pygments_lexer": "ipython3",
   "version": "3.11.7"
  }
 },
 "nbformat": 4,
 "nbformat_minor": 2
}
